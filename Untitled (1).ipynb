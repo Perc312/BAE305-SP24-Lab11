{
 "cells": [
  {
   "cell_type": "code",
   "execution_count": null,
   "id": "f0a4c468-6df4-47a1-8585-7ad0f2ee3863",
   "metadata": {},
   "outputs": [],
   "source": [
    "def count_text_statistics(file_path):                                         # Defines the function and prompts user for file\n",
    "    \n",
    "    try:                                                                      # Uses the try statement to specify two courses of action, to read the\n",
    "        with open(file_path, 'r') as file:                                    # text file if available or to inform the user if the file is unavailable\n",
    "            text = file.read()                                                # The text file is opened as a string\n",
    "                                                                            \n",
    "            char_count = len(text)                                            # The len function is used to obtain the number of characters in a string\n",
    "                                                                              # char_count is saved as an integer\n",
    "            \n",
    "            words = text.split()                                              # Breaks up string based on spaces, creates a list of strings \"words\"\n",
    "            word_count = len(words)                                           # Determines length of list\n",
    "\n",
    "            line_count = text.count('\\n') + 1                                 # \n",
    "\n",
    "            return char_count, word_count, line_count                         # Print out results\n",
    "\n",
    "    except FileNotFoundError:                                                 # If the file is not valid, return nothing and inform user\n",
    "        print(\"File not found.\")\n",
    "        return None, None, None\n",
    "\n",
    "\n",
    "def main():\n",
    "    file_path = input(\"Enter the path of the text file: \")                    # Makes it so the input for the program is the selected file\n",
    "\n",
    "    char_count, word_count, line_count = count_text_statistics(file_path)     # The calculated values are retrieved\n",
    "\n",
    "    if char_count is not None:                                                # If file used is valid, and has words\n",
    "        print(\"Character count:\", char_count)                                 # Print out character count, word count, and line count\n",
    "        print(\"Word count:\", word_count)\n",
    "        print(\"Line count:\", line_count)\n",
    "\n"
   ]
  }
 ],
 "metadata": {
  "kernelspec": {
   "display_name": "Python 3 (ipykernel)",
   "language": "python",
   "name": "python3"
  },
  "language_info": {
   "codemirror_mode": {
    "name": "ipython",
    "version": 3
   },
   "file_extension": ".py",
   "mimetype": "text/x-python",
   "name": "python",
   "nbconvert_exporter": "python",
   "pygments_lexer": "ipython3",
   "version": "3.7.12"
  }
 },
 "nbformat": 4,
 "nbformat_minor": 5
}
